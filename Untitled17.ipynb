{
 "cells": [
  {
   "cell_type": "code",
   "execution_count": 1,
   "id": "31a116a1",
   "metadata": {},
   "outputs": [],
   "source": [
    "import numpy as np"
   ]
  },
  {
   "cell_type": "code",
   "execution_count": 4,
   "id": "ceb49ed8",
   "metadata": {},
   "outputs": [],
   "source": [
    "a=np.array('[1,2,3;4,5,6]')"
   ]
  },
  {
   "cell_type": "code",
   "execution_count": 5,
   "id": "f0f97a00",
   "metadata": {},
   "outputs": [
    {
     "data": {
      "text/plain": [
       "array('[1,2,3;4,5,6]', dtype='<U13')"
      ]
     },
     "execution_count": 5,
     "metadata": {},
     "output_type": "execute_result"
    }
   ],
   "source": [
    "a"
   ]
  },
  {
   "cell_type": "code",
   "execution_count": 6,
   "id": "4d3cfdc2",
   "metadata": {},
   "outputs": [
    {
     "name": "stdout",
     "output_type": "stream",
     "text": [
      "[[ 4 12]\n",
      " [ 1  3]]\n"
     ]
    }
   ],
   "source": [
    "import numpy as np\n",
    "              \n",
    "# make matrix with numpy\n",
    "gfg = np.matrix('[4, 1; 12, 3]')\n",
    "              \n",
    "# applying matrix.transpose() method\n",
    "geek = gfg.transpose()\n",
    "    \n",
    "print(geek)"
   ]
  },
  {
   "cell_type": "code",
   "execution_count": 9,
   "id": "0bf3bb37",
   "metadata": {},
   "outputs": [
    {
     "name": "stdout",
     "output_type": "stream",
     "text": [
      "the matrix is:  [[1 2 3]\n",
      " [4 5 6]]\n"
     ]
    }
   ],
   "source": [
    "import numpy as np\n",
    "\n",
    "a=np.matrix('[1, 2, 3; 4, 5, 6]')\n",
    "\n",
    "print(\"the matrix is: \",a)"
   ]
  },
  {
   "cell_type": "code",
   "execution_count": 10,
   "id": "eb04c995",
   "metadata": {},
   "outputs": [
    {
     "name": "stdout",
     "output_type": "stream",
     "text": [
      "the transposed matrix is: [[1 4 7]\n",
      " [2 5 8]\n",
      " [3 6 9]]\n"
     ]
    }
   ],
   "source": [
    "import numpy as np\n",
    "a=np.matrix('[1,2,3;4,5,6;7,8,9]')\n",
    "b=a.transpose()\n",
    "print(\"the transposed matrix is:\",b)"
   ]
  },
  {
   "cell_type": "code",
   "execution_count": 15,
   "id": "93122ca9",
   "metadata": {},
   "outputs": [
    {
     "name": "stdout",
     "output_type": "stream",
     "text": [
      "the result is : [[25 25 26]\n",
      " [58 58 62]\n",
      " [91 91 98]]\n"
     ]
    }
   ],
   "source": [
    "import numpy as np\n",
    "a=([1,2,3],[4,5,6],[7,8,9])\n",
    "b=([2,2,3],[4,4,4],[5,5,5])\n",
    "c=np.dot(a,b)\n",
    "print(\"the result is :\",c)"
   ]
  },
  {
   "cell_type": "code",
   "execution_count": 16,
   "id": "d3d05118",
   "metadata": {},
   "outputs": [
    {
     "name": "stdout",
     "output_type": "stream",
     "text": [
      "[[25 25 26]\n",
      " [58 58 62]\n",
      " [91 91 98]]\n"
     ]
    }
   ],
   "source": [
    "import numpy as np\n",
    "a=([1,2,3],[4,5,6],[7,8,9])\n",
    "b=([2,2,3],[4,4,4],[5,5,5])\n",
    "c=np.dot(a,b)\n",
    "print(c)"
   ]
  },
  {
   "cell_type": "code",
   "execution_count": 36,
   "id": "fb321c3a",
   "metadata": {},
   "outputs": [
    {
     "name": "stdout",
     "output_type": "stream",
     "text": [
      "45\n"
     ]
    }
   ],
   "source": [
    "import numpy as np\n",
    "a=np.matrix('[1,2,3;4,5,6;7,8,9]')\n",
    "c=np.sum(a)\n",
    "print(c)"
   ]
  },
  {
   "cell_type": "code",
   "execution_count": 25,
   "id": "f50cf0f1",
   "metadata": {},
   "outputs": [
    {
     "name": "stdout",
     "output_type": "stream",
     "text": [
      "111209\n"
     ]
    }
   ],
   "source": [
    "import numpy as np\n",
    "a=np.matrix('[1,2,3;4,88,111111]')\n",
    "\n",
    "c=np.sum(a)\n",
    "print(c)"
   ]
  },
  {
   "cell_type": "code",
   "execution_count": 43,
   "id": "5f9c548d",
   "metadata": {},
   "outputs": [
    {
     "name": "stdout",
     "output_type": "stream",
     "text": [
      "[[ 12 -12  36]\n",
      " [ 16  12  48]\n",
      " [  6 -12  60]]\n"
     ]
    }
   ],
   "source": [
    "import numpy as np\n",
    "\n",
    "M1 = np.array([[3, 6, 9], [5, -10, 15], [-7, 14, 21]])\n",
    "M2 = np.array([[9, -18, 27], [11, 22, 33], [13, -26, 39]])\n",
    "M3 = M1 + M2  \n",
    "print(M3)"
   ]
  },
  {
   "cell_type": "code",
   "execution_count": 44,
   "id": "b9276966",
   "metadata": {},
   "outputs": [
    {
     "name": "stdout",
     "output_type": "stream",
     "text": [
      "[[ -6  24 -18]\n",
      " [ -6 -32 -18]\n",
      " [-20  40 -18]]\n"
     ]
    }
   ],
   "source": [
    "import numpy as np\n",
    "\n",
    "M1 = np.array([[3, 6, 9], [5, -10, 15], [-7, 14, 21]])\n",
    "M2 = np.array([[9, -18, 27], [11, 22, 33], [13, -26, 39]])\n",
    "M3 = M1 - M2  \n",
    "print(M3)"
   ]
  },
  {
   "cell_type": "code",
   "execution_count": 48,
   "id": "d46ac01a",
   "metadata": {},
   "outputs": [
    {
     "name": "stdout",
     "output_type": "stream",
     "text": [
      "[ 8 10 12]\n",
      "[ 2  4  6  8 10]\n",
      "[ 6  8 10 12 14 16]\n",
      "[ 8 10 12 14]\n",
      "[ 2  4  6  8 10 12 14]\n"
     ]
    }
   ],
   "source": [
    "import numpy as np\n",
    "\n",
    "arr = np.array([2,4,6,8,10,12,14,16])\n",
    "print(arr[3:6]) # will print the elements from 3 to 5\n",
    "print(arr[:5]) # will print the elements from 0 to 4\n",
    "print(arr[2:]) # will print the elements from 2 to length of the array.\n",
    "print(arr[-5:-1]) # will print from the end i.e. -5 to -2\n",
    "print(arr[:-1]) # will print from end i.e. 0 to -2"
   ]
  },
  {
   "cell_type": "code",
   "execution_count": null,
   "id": "580fef98",
   "metadata": {},
   "outputs": [],
   "source": []
  }
 ],
 "metadata": {
  "kernelspec": {
   "display_name": "Python 3",
   "language": "python",
   "name": "python3"
  },
  "language_info": {
   "codemirror_mode": {
    "name": "ipython",
    "version": 3
   },
   "file_extension": ".py",
   "mimetype": "text/x-python",
   "name": "python",
   "nbconvert_exporter": "python",
   "pygments_lexer": "ipython3",
   "version": "3.8.8"
  }
 },
 "nbformat": 4,
 "nbformat_minor": 5
}
