{
 "cells": [
  {
   "cell_type": "code",
   "execution_count": 1,
   "id": "304a640b",
   "metadata": {},
   "outputs": [],
   "source": [
    "import pandas as pd\n",
    "import numpy as np\n"
   ]
  },
  {
   "cell_type": "code",
   "execution_count": 2,
   "id": "dd20d365",
   "metadata": {},
   "outputs": [
    {
     "data": {
      "text/html": [
       "<div>\n",
       "<style scoped>\n",
       "    .dataframe tbody tr th:only-of-type {\n",
       "        vertical-align: middle;\n",
       "    }\n",
       "\n",
       "    .dataframe tbody tr th {\n",
       "        vertical-align: top;\n",
       "    }\n",
       "\n",
       "    .dataframe thead th {\n",
       "        text-align: right;\n",
       "    }\n",
       "</style>\n",
       "<table border=\"1\" class=\"dataframe\">\n",
       "  <thead>\n",
       "    <tr style=\"text-align: right;\">\n",
       "      <th></th>\n",
       "      <th>Age</th>\n",
       "      <th>Annual Salary</th>\n",
       "      <th>Weekly hours</th>\n",
       "      <th>Education</th>\n",
       "    </tr>\n",
       "  </thead>\n",
       "  <tbody>\n",
       "    <tr>\n",
       "      <th>0</th>\n",
       "      <td>72</td>\n",
       "      <td>160000.0</td>\n",
       "      <td>40.0</td>\n",
       "      <td>Bachelor's degree or higher</td>\n",
       "    </tr>\n",
       "    <tr>\n",
       "      <th>1</th>\n",
       "      <td>72</td>\n",
       "      <td>100000.0</td>\n",
       "      <td>50.0</td>\n",
       "      <td>Bachelor's degree or higher</td>\n",
       "    </tr>\n",
       "    <tr>\n",
       "      <th>2</th>\n",
       "      <td>31</td>\n",
       "      <td>120000.0</td>\n",
       "      <td>40.0</td>\n",
       "      <td>Bachelor's degree or higher</td>\n",
       "    </tr>\n",
       "    <tr>\n",
       "      <th>3</th>\n",
       "      <td>28</td>\n",
       "      <td>45000.0</td>\n",
       "      <td>40.0</td>\n",
       "      <td>Bachelor's degree or higher</td>\n",
       "    </tr>\n",
       "    <tr>\n",
       "      <th>4</th>\n",
       "      <td>54</td>\n",
       "      <td>85000.0</td>\n",
       "      <td>40.0</td>\n",
       "      <td>Bachelor's degree or higher</td>\n",
       "    </tr>\n",
       "  </tbody>\n",
       "</table>\n",
       "</div>"
      ],
      "text/plain": [
       "   Age  Annual Salary  Weekly hours                    Education\n",
       "0   72       160000.0          40.0  Bachelor's degree or higher\n",
       "1   72       100000.0          50.0  Bachelor's degree or higher\n",
       "2   31       120000.0          40.0  Bachelor's degree or higher\n",
       "3   28        45000.0          40.0  Bachelor's degree or higher\n",
       "4   54        85000.0          40.0  Bachelor's degree or higher"
      ]
     },
     "execution_count": 2,
     "metadata": {},
     "output_type": "execute_result"
    }
   ],
   "source": [
    "\n",
    "s = pd.read_csv(\"https://raw.githubusercontent.com/AP-Skill-Development-Corporation/DataScienceUsingPython-Internship-SRM-University/main/Datasets/Datasets-master/Regression/age_salary_hours.csv\")\n",
    "s.head()"
   ]
  },
  {
   "cell_type": "code",
   "execution_count": 3,
   "id": "2cde8670",
   "metadata": {},
   "outputs": [
    {
     "data": {
      "text/plain": [
       "(500, 4)"
      ]
     },
     "execution_count": 3,
     "metadata": {},
     "output_type": "execute_result"
    }
   ],
   "source": [
    "s.shape"
   ]
  },
  {
   "cell_type": "code",
   "execution_count": 4,
   "id": "02a035e0",
   "metadata": {},
   "outputs": [
    {
     "data": {
      "text/plain": [
       "Age              0\n",
       "Annual Salary    0\n",
       "Weekly hours     0\n",
       "Education        0\n",
       "dtype: int64"
      ]
     },
     "execution_count": 4,
     "metadata": {},
     "output_type": "execute_result"
    }
   ],
   "source": [
    "s.isnull().sum()"
   ]
  },
  {
   "cell_type": "code",
   "execution_count": 5,
   "id": "1414e0ec",
   "metadata": {},
   "outputs": [
    {
     "data": {
      "text/html": [
       "<div>\n",
       "<style scoped>\n",
       "    .dataframe tbody tr th:only-of-type {\n",
       "        vertical-align: middle;\n",
       "    }\n",
       "\n",
       "    .dataframe tbody tr th {\n",
       "        vertical-align: top;\n",
       "    }\n",
       "\n",
       "    .dataframe thead th {\n",
       "        text-align: right;\n",
       "    }\n",
       "</style>\n",
       "<table border=\"1\" class=\"dataframe\">\n",
       "  <thead>\n",
       "    <tr style=\"text-align: right;\">\n",
       "      <th></th>\n",
       "      <th>Age</th>\n",
       "    </tr>\n",
       "  </thead>\n",
       "  <tbody>\n",
       "    <tr>\n",
       "      <th>0</th>\n",
       "      <td>72</td>\n",
       "    </tr>\n",
       "    <tr>\n",
       "      <th>1</th>\n",
       "      <td>72</td>\n",
       "    </tr>\n",
       "    <tr>\n",
       "      <th>2</th>\n",
       "      <td>31</td>\n",
       "    </tr>\n",
       "    <tr>\n",
       "      <th>3</th>\n",
       "      <td>28</td>\n",
       "    </tr>\n",
       "    <tr>\n",
       "      <th>4</th>\n",
       "      <td>54</td>\n",
       "    </tr>\n",
       "  </tbody>\n",
       "</table>\n",
       "</div>"
      ],
      "text/plain": [
       "   Age\n",
       "0   72\n",
       "1   72\n",
       "2   31\n",
       "3   28\n",
       "4   54"
      ]
     },
     "execution_count": 5,
     "metadata": {},
     "output_type": "execute_result"
    }
   ],
   "source": [
    "x = s[[\"Age\"]]\n",
    "x.head()"
   ]
  },
  {
   "cell_type": "code",
   "execution_count": 6,
   "id": "e9b93617",
   "metadata": {},
   "outputs": [
    {
     "data": {
      "text/plain": [
       "0    40.0\n",
       "1    50.0\n",
       "2    40.0\n",
       "3    40.0\n",
       "4    40.0\n",
       "Name: Weekly hours, dtype: float64"
      ]
     },
     "execution_count": 6,
     "metadata": {},
     "output_type": "execute_result"
    }
   ],
   "source": [
    "y = s[\"Weekly hours\"]\n",
    "y.head()"
   ]
  },
  {
   "cell_type": "code",
   "execution_count": 7,
   "id": "c97ae439",
   "metadata": {},
   "outputs": [
    {
     "data": {
      "text/plain": [
       "LinearRegression()"
      ]
     },
     "execution_count": 7,
     "metadata": {},
     "output_type": "execute_result"
    }
   ],
   "source": [
    "from sklearn.linear_model import LinearRegression\n",
    "l_model = LinearRegression()\n",
    "l_model.fit(x, y)"
   ]
  },
  {
   "cell_type": "code",
   "execution_count": 8,
   "id": "a13cbc74",
   "metadata": {},
   "outputs": [
    {
     "data": {
      "text/plain": [
       "array([18.06802824, 18.06802824, 37.51243005, 38.93519116, 26.60459489,\n",
       "       30.87287821, 12.37698381, 18.54228194, 19.96504305, 30.39862451,\n",
       "       24.23332638, 16.64526713, 27.07884859, 27.07884859, 41.30645967,\n",
       "       42.72922078, 22.81056527, 11.90273011, 33.24414673, 29.92437081,\n",
       "       34.66690783, 34.66690783, 36.08966894, 36.08966894, 30.39862451,\n",
       "       40.35795227, 42.25496708, 33.24414673, 31.34713192, 34.19265413,\n",
       "       21.38780416, 31.82138562, 21.38780416, 35.61541524, 10.0057153 ,\n",
       "       25.65608748, 26.60459489, 28.9758634 , 17.11952084, 19.01653565,\n",
       "       35.61541524, 37.51243005, 26.13034119, 26.60459489, 17.59377454,\n",
       "       14.27399862, 41.30645967, 30.87287821, 30.87287821, 33.24414673,\n",
       "       10.9542227 , 10.0057153 , 24.23332638, 33.24414673, 22.81056527,\n",
       "       24.23332638, 20.43929676,  7.16019308, 36.08966894, 34.19265413,\n",
       "       30.87287821, 33.24414673, 18.06802824, 18.06802824, 26.60459489,\n",
       "       26.60459489, 33.71840043, 42.72922078, 37.98668375, 38.46093746,\n",
       "       15.69675973, 28.5016097 , 42.25496708, 14.27399862, 15.69675973,\n",
       "       22.81056527, 13.32549122, 30.39862451, 19.96504305, 36.08966894,\n",
       "       37.98668375, 38.93519116, 40.35795227, 40.83220597, 40.83220597,\n",
       "       19.01653565, 19.01653565, 42.25496708, 41.78071337, 21.38780416,\n",
       "       21.38780416, 28.5016097 , 25.65608748, 37.98668375, 32.29563932,\n",
       "       33.71840043, 33.71840043, 27.07884859, 31.82138562, 30.39862451,\n",
       "       26.13034119, 28.027356  , 32.29563932, 35.14116154, 38.93519116,\n",
       "       39.40944486, 35.14116154, 38.46093746, 18.06802824, 16.64526713,\n",
       "       36.56392264, 13.79974492, 15.69675973, 25.65608748, 22.81056527,\n",
       "       18.06802824, 37.03817635, 34.19265413, 20.43929676, 20.43929676,\n",
       "       23.28481897, 21.38780416, 41.78071337, 21.86205786, 14.27399862,\n",
       "       35.14116154, 25.18183378, 23.28481897, 16.17101343, 23.75907267,\n",
       "       20.43929676, 28.5016097 , 30.39862451, 43.67772818, 28.027356  ,\n",
       "       28.5016097 , 24.70758008, 22.33631157, 38.46093746, 37.98668375,\n",
       "       37.98668375, 32.29563932, 35.61541524, 32.76989302, 25.18183378,\n",
       "       22.81056527, 19.49078935, 24.23332638, 24.70758008, 34.66690783,\n",
       "       35.14116154, 22.33631157, 21.86205786, 25.18183378, 20.43929676,\n",
       "       33.71840043, 42.72922078, 41.30645967, 32.29563932, 43.20347448,\n",
       "       21.86205786, 21.86205786, 31.34713192, 23.28481897, 26.13034119,\n",
       "       31.82138562, 28.9758634 , 24.23332638, 24.70758008, 24.23332638,\n",
       "       40.35795227, 17.59377454, 18.06802824, 14.27399862, 28.027356  ,\n",
       "       32.29563932, 32.76989302, 26.13034119, 15.69675973, 34.19265413,\n",
       "       35.61541524, 38.46093746, 38.46093746, 24.70758008, 32.29563932,\n",
       "       24.70758008, 33.24414673, 40.83220597, 29.92437081, 24.70758008,\n",
       "       40.83220597, 37.03817635, 37.03817635, 24.23332638, 27.55310229,\n",
       "       41.30645967, 35.61541524, 36.08966894, 22.81056527, 22.33631157,\n",
       "       21.86205786, 39.40944486, 41.30645967, 31.34713192, 32.76989302,\n",
       "       34.66690783, 32.76989302, 21.38780416, 16.17101343, 25.18183378,\n",
       "       37.98668375, 34.19265413, 33.71840043, 25.65608748, 20.43929676,\n",
       "       21.86205786, 16.64526713, 11.4284764 , 32.29563932, 29.45011711,\n",
       "       29.92437081, 15.69675973, 24.70758008, 22.81056527, 41.78071337,\n",
       "       22.81056527, 30.87287821, 16.64526713, 16.64526713, 30.39862451,\n",
       "       20.91355046, 21.86205786, 29.92437081, 28.027356  , 23.75907267,\n",
       "       37.98668375, 40.35795227, 41.30645967, 31.82138562, 36.56392264,\n",
       "       36.08966894, 29.92437081, 29.92437081, 23.75907267, 24.70758008,\n",
       "       41.30645967, 13.79974492, 16.17101343, 16.64526713, 22.33631157,\n",
       "       25.65608748, 37.98668375, 18.06802824,  7.16019308, 19.96504305,\n",
       "       23.28481897, 23.75907267, 16.17101343, 25.18183378, 37.51243005,\n",
       "       21.86205786, 20.91355046, 21.86205786, 24.23332638, 37.98668375,\n",
       "       38.93519116, 33.24414673, 40.83220597, 41.30645967, 41.30645967,\n",
       "       17.59377454, 17.11952084, 11.4284764 , 10.479969  , 23.75907267,\n",
       "       40.83220597, 25.65608748, 39.88369856, 39.40944486, 39.88369856,\n",
       "       29.92437081, 35.61541524, 33.24414673, 27.07884859, 34.19265413,\n",
       "       36.56392264, 37.98668375, 19.49078935, 31.34713192, 28.5016097 ,\n",
       "       24.23332638, 38.93519116, 22.33631157, 41.30645967, 28.5016097 ,\n",
       "       36.08966894, 22.33631157, 20.91355046, 36.08966894,  9.05720789,\n",
       "       30.39862451, 30.39862451, 38.93519116, 11.90273011, 24.70758008,\n",
       "       14.74825232, 23.28481897, 23.75907267, 16.64526713, 36.56392264,\n",
       "       35.61541524, 22.33631157, 14.74825232, 27.55310229, 13.79974492,\n",
       "       14.27399862, 24.23332638, 25.18183378, 25.65608748, 23.75907267,\n",
       "       27.55310229, 25.65608748, 24.23332638, 21.86205786, 33.71840043,\n",
       "       26.13034119, 18.06802824, 32.29563932, 33.71840043, 21.38780416,\n",
       "       20.91355046, 40.35795227, 37.98668375, 31.82138562, 28.9758634 ,\n",
       "       19.01653565, 32.76989302, 33.24414673, 19.49078935, 19.96504305,\n",
       "       19.01653565, 19.01653565, 19.96504305, 19.96504305, 16.17101343,\n",
       "       22.33631157, 28.5016097 , 39.88369856, 10.0057153 , 30.87287821,\n",
       "       38.93519116, 37.03817635, 27.07884859, 30.39862451, 43.20347448,\n",
       "       34.66690783, 35.61541524, 36.56392264, 26.13034119, 28.5016097 ,\n",
       "       42.72922078, 28.027356  , 26.13034119, 27.55310229, 39.40944486,\n",
       "       40.35795227, 23.28481897, 20.91355046, 31.34713192, 33.71840043,\n",
       "       24.70758008, 22.81056527, 27.07884859, 26.13034119, 26.60459489,\n",
       "       24.23332638, 23.75907267, 40.83220597, 38.46093746, 38.93519116,\n",
       "       37.03817635, 35.61541524, 17.59377454, 22.33631157, 31.34713192,\n",
       "       21.38780416, 23.75907267, 35.61541524, 37.98668375, 18.54228194,\n",
       "       18.06802824, 37.51243005, 35.61541524, 22.81056527, 36.56392264,\n",
       "       37.51243005, 24.70758008, 22.81056527, 39.40944486, 29.92437081,\n",
       "       28.9758634 , 32.29563932, 32.76989302, 18.06802824, 18.54228194,\n",
       "       40.83220597, 16.17101343, 20.43929676, 18.54228194, 29.92437081,\n",
       "       21.86205786, 28.5016097 , 16.64526713, 17.11952084, 31.34713192,\n",
       "       42.72922078, 25.65608748, 26.60459489, 27.55310229, 27.07884859,\n",
       "       10.479969  , 12.37698381, 26.60459489, 18.06802824, 12.37698381,\n",
       "       34.66690783, 34.19265413, 22.81056527, 17.11952084, 37.03817635,\n",
       "       37.51243005, 38.46093746, 35.14116154, 30.39862451, 34.66690783,\n",
       "       34.66690783, 28.9758634 , 30.39862451, 15.69675973, 23.75907267,\n",
       "       14.74825232, 20.43929676, 23.28481897, 37.03817635, 41.30645967,\n",
       "       35.61541524, 36.56392264, 41.78071337, 42.72922078, 20.43929676,\n",
       "       19.96504305, 37.03817635, 36.56392264, 16.17101343, 28.5016097 ,\n",
       "       41.30645967, 39.88369856, 39.40944486, 42.25496708, 42.25496708,\n",
       "       42.25496708, 28.5016097 , 24.23332638, 19.01653565, 19.01653565,\n",
       "       35.14116154, 24.23332638, 25.18183378, 37.98668375, 38.46093746,\n",
       "       27.55310229, 27.55310229, 40.35795227, 41.78071337, 23.75907267,\n",
       "       24.70758008, 16.64526713, 28.027356  , 37.03817635, 30.87287821,\n",
       "       30.87287821, 33.24414673, 41.30645967, 29.92437081, 30.87287821,\n",
       "       44.15198189, 26.13034119, 27.07884859, 37.03817635, 39.40944486,\n",
       "       24.70758008, 32.29563932, 30.39862451, 12.85123751, 31.34713192,\n",
       "       39.40944486, 27.07884859, 28.027356  , 37.03817635, 43.67772818])"
      ]
     },
     "execution_count": 8,
     "metadata": {},
     "output_type": "execute_result"
    }
   ],
   "source": [
    "predicted = l_model.predict(x)\n",
    "predicted"
   ]
  },
  {
   "cell_type": "code",
   "execution_count": 9,
   "id": "a4751774",
   "metadata": {},
   "outputs": [
    {
     "data": {
      "text/plain": [
       "Age    55\n",
       "Name: 100, dtype: int64"
      ]
     },
     "execution_count": 9,
     "metadata": {},
     "output_type": "execute_result"
    }
   ],
   "source": [
    "x.loc[100]\n"
   ]
  },
  {
   "cell_type": "code",
   "execution_count": 10,
   "id": "42626dee",
   "metadata": {},
   "outputs": [
    {
     "data": {
      "text/plain": [
       "50.0"
      ]
     },
     "execution_count": 10,
     "metadata": {},
     "output_type": "execute_result"
    }
   ],
   "source": [
    "y.loc[100]"
   ]
  },
  {
   "cell_type": "code",
   "execution_count": 11,
   "id": "e630292c",
   "metadata": {},
   "outputs": [
    {
     "data": {
      "text/plain": [
       "array([26.13034119])"
      ]
     },
     "execution_count": 11,
     "metadata": {},
     "output_type": "execute_result"
    }
   ],
   "source": [
    "l_model.predict([[55]])"
   ]
  },
  {
   "cell_type": "code",
   "execution_count": 12,
   "id": "9855ac39",
   "metadata": {},
   "outputs": [
    {
     "data": {
      "text/plain": [
       "17.641761291331616"
      ]
     },
     "execution_count": 12,
     "metadata": {},
     "output_type": "execute_result"
    }
   ],
   "source": [
    "from sklearn.metrics import r2_score\n",
    "r2_score(y, predicted) * 100"
   ]
  },
  {
   "cell_type": "code",
   "execution_count": 13,
   "id": "19bb14b6",
   "metadata": {},
   "outputs": [
    {
     "data": {
      "text/plain": [
       "0.0"
      ]
     },
     "execution_count": 13,
     "metadata": {},
     "output_type": "execute_result"
    }
   ],
   "source": [
    "y.min()"
   ]
  },
  {
   "cell_type": "code",
   "execution_count": 14,
   "id": "b38b6a01",
   "metadata": {},
   "outputs": [
    {
     "data": {
      "text/plain": [
       "99.0"
      ]
     },
     "execution_count": 14,
     "metadata": {},
     "output_type": "execute_result"
    }
   ],
   "source": [
    "y.max()"
   ]
  },
  {
   "cell_type": "code",
   "execution_count": 15,
   "id": "aa25d48e",
   "metadata": {},
   "outputs": [
    {
     "data": {
      "text/plain": [
       "Age    26.130341\n",
       "Name: 100, dtype: float64"
      ]
     },
     "execution_count": 15,
     "metadata": {},
     "output_type": "execute_result"
    }
   ],
   "source": [
    "y = l_model.coef_*x.loc[100] + l_model.intercept_\n",
    "y"
   ]
  },
  {
   "cell_type": "code",
   "execution_count": 16,
   "id": "04aead3a",
   "metadata": {},
   "outputs": [
    {
     "data": {
      "text/plain": [
       "Age    55\n",
       "Name: 100, dtype: int64"
      ]
     },
     "execution_count": 16,
     "metadata": {},
     "output_type": "execute_result"
    }
   ],
   "source": [
    "x.loc[100]"
   ]
  },
  {
   "cell_type": "code",
   "execution_count": 17,
   "id": "17a984ba",
   "metadata": {},
   "outputs": [
    {
     "data": {
      "text/plain": [
       "array([26.13034119])"
      ]
     },
     "execution_count": 17,
     "metadata": {},
     "output_type": "execute_result"
    }
   ],
   "source": [
    "l_model.predict([[55]])"
   ]
  },
  {
   "cell_type": "code",
   "execution_count": 18,
   "id": "bc006cec",
   "metadata": {},
   "outputs": [
    {
     "data": {
      "text/html": [
       "<div>\n",
       "<style scoped>\n",
       "    .dataframe tbody tr th:only-of-type {\n",
       "        vertical-align: middle;\n",
       "    }\n",
       "\n",
       "    .dataframe tbody tr th {\n",
       "        vertical-align: top;\n",
       "    }\n",
       "\n",
       "    .dataframe thead th {\n",
       "        text-align: right;\n",
       "    }\n",
       "</style>\n",
       "<table border=\"1\" class=\"dataframe\">\n",
       "  <thead>\n",
       "    <tr style=\"text-align: right;\">\n",
       "      <th></th>\n",
       "      <th>Age</th>\n",
       "      <th>Annual Salary</th>\n",
       "      <th>Weekly hours</th>\n",
       "      <th>Education</th>\n",
       "    </tr>\n",
       "  </thead>\n",
       "  <tbody>\n",
       "    <tr>\n",
       "      <th>0</th>\n",
       "      <td>72</td>\n",
       "      <td>160000.0</td>\n",
       "      <td>40.0</td>\n",
       "      <td>Bachelor's degree or higher</td>\n",
       "    </tr>\n",
       "    <tr>\n",
       "      <th>1</th>\n",
       "      <td>72</td>\n",
       "      <td>100000.0</td>\n",
       "      <td>50.0</td>\n",
       "      <td>Bachelor's degree or higher</td>\n",
       "    </tr>\n",
       "    <tr>\n",
       "      <th>2</th>\n",
       "      <td>31</td>\n",
       "      <td>120000.0</td>\n",
       "      <td>40.0</td>\n",
       "      <td>Bachelor's degree or higher</td>\n",
       "    </tr>\n",
       "    <tr>\n",
       "      <th>3</th>\n",
       "      <td>28</td>\n",
       "      <td>45000.0</td>\n",
       "      <td>40.0</td>\n",
       "      <td>Bachelor's degree or higher</td>\n",
       "    </tr>\n",
       "    <tr>\n",
       "      <th>4</th>\n",
       "      <td>54</td>\n",
       "      <td>85000.0</td>\n",
       "      <td>40.0</td>\n",
       "      <td>Bachelor's degree or higher</td>\n",
       "    </tr>\n",
       "  </tbody>\n",
       "</table>\n",
       "</div>"
      ],
      "text/plain": [
       "   Age  Annual Salary  Weekly hours                    Education\n",
       "0   72       160000.0          40.0  Bachelor's degree or higher\n",
       "1   72       100000.0          50.0  Bachelor's degree or higher\n",
       "2   31       120000.0          40.0  Bachelor's degree or higher\n",
       "3   28        45000.0          40.0  Bachelor's degree or higher\n",
       "4   54        85000.0          40.0  Bachelor's degree or higher"
      ]
     },
     "execution_count": 18,
     "metadata": {},
     "output_type": "execute_result"
    }
   ],
   "source": [
    "s = pd.read_csv(\"https://raw.githubusercontent.com/AP-Skill-Development-Corporation/DataScienceUsingPython-Internship-SRM-University/main/Datasets/Datasets-master/Regression/age_salary_hours.csv\")\n",
    "s.head()"
   ]
  },
  {
   "cell_type": "code",
   "execution_count": 19,
   "id": "cd657f88",
   "metadata": {},
   "outputs": [
    {
     "data": {
      "text/html": [
       "<div>\n",
       "<style scoped>\n",
       "    .dataframe tbody tr th:only-of-type {\n",
       "        vertical-align: middle;\n",
       "    }\n",
       "\n",
       "    .dataframe tbody tr th {\n",
       "        vertical-align: top;\n",
       "    }\n",
       "\n",
       "    .dataframe thead th {\n",
       "        text-align: right;\n",
       "    }\n",
       "</style>\n",
       "<table border=\"1\" class=\"dataframe\">\n",
       "  <thead>\n",
       "    <tr style=\"text-align: right;\">\n",
       "      <th></th>\n",
       "      <th>Age</th>\n",
       "      <th>Annual Salary</th>\n",
       "    </tr>\n",
       "  </thead>\n",
       "  <tbody>\n",
       "    <tr>\n",
       "      <th>0</th>\n",
       "      <td>72</td>\n",
       "      <td>160000.0</td>\n",
       "    </tr>\n",
       "    <tr>\n",
       "      <th>1</th>\n",
       "      <td>72</td>\n",
       "      <td>100000.0</td>\n",
       "    </tr>\n",
       "    <tr>\n",
       "      <th>2</th>\n",
       "      <td>31</td>\n",
       "      <td>120000.0</td>\n",
       "    </tr>\n",
       "    <tr>\n",
       "      <th>3</th>\n",
       "      <td>28</td>\n",
       "      <td>45000.0</td>\n",
       "    </tr>\n",
       "    <tr>\n",
       "      <th>4</th>\n",
       "      <td>54</td>\n",
       "      <td>85000.0</td>\n",
       "    </tr>\n",
       "    <tr>\n",
       "      <th>...</th>\n",
       "      <td>...</td>\n",
       "      <td>...</td>\n",
       "    </tr>\n",
       "    <tr>\n",
       "      <th>495</th>\n",
       "      <td>27</td>\n",
       "      <td>47000.0</td>\n",
       "    </tr>\n",
       "    <tr>\n",
       "      <th>496</th>\n",
       "      <td>53</td>\n",
       "      <td>132000.0</td>\n",
       "    </tr>\n",
       "    <tr>\n",
       "      <th>497</th>\n",
       "      <td>51</td>\n",
       "      <td>10100.0</td>\n",
       "    </tr>\n",
       "    <tr>\n",
       "      <th>498</th>\n",
       "      <td>32</td>\n",
       "      <td>57000.0</td>\n",
       "    </tr>\n",
       "    <tr>\n",
       "      <th>499</th>\n",
       "      <td>18</td>\n",
       "      <td>18700.0</td>\n",
       "    </tr>\n",
       "  </tbody>\n",
       "</table>\n",
       "<p>500 rows × 2 columns</p>\n",
       "</div>"
      ],
      "text/plain": [
       "     Age  Annual Salary\n",
       "0     72       160000.0\n",
       "1     72       100000.0\n",
       "2     31       120000.0\n",
       "3     28        45000.0\n",
       "4     54        85000.0\n",
       "..   ...            ...\n",
       "495   27        47000.0\n",
       "496   53       132000.0\n",
       "497   51        10100.0\n",
       "498   32        57000.0\n",
       "499   18        18700.0\n",
       "\n",
       "[500 rows x 2 columns]"
      ]
     },
     "execution_count": 19,
     "metadata": {},
     "output_type": "execute_result"
    }
   ],
   "source": [
    "x = s[[\"Age\",\"Annual Salary\"]]\n",
    "x"
   ]
  },
  {
   "cell_type": "code",
   "execution_count": 20,
   "id": "a80b5ca3",
   "metadata": {},
   "outputs": [
    {
     "data": {
      "text/plain": [
       "0      40.0\n",
       "1      50.0\n",
       "2      40.0\n",
       "3      40.0\n",
       "4      40.0\n",
       "       ... \n",
       "495    40.0\n",
       "496    70.0\n",
       "497    20.0\n",
       "498    35.0\n",
       "499    20.0\n",
       "Name: Weekly hours, Length: 500, dtype: float64"
      ]
     },
     "execution_count": 20,
     "metadata": {},
     "output_type": "execute_result"
    }
   ],
   "source": [
    "\n",
    "y = s[\"Weekly hours\"]\n",
    "y"
   ]
  },
  {
   "cell_type": "code",
   "execution_count": 21,
   "id": "a05a9f62",
   "metadata": {},
   "outputs": [],
   "source": [
    "from sklearn.model_selection import train_test_split\n",
    "x_train, x_test, y_train, y_test = train_test_split(x, y, test_size = 0.2, random_state = 30)"
   ]
  },
  {
   "cell_type": "code",
   "execution_count": 22,
   "id": "dfb2eac3",
   "metadata": {},
   "outputs": [
    {
     "data": {
      "text/plain": [
       "LinearRegression()"
      ]
     },
     "execution_count": 22,
     "metadata": {},
     "output_type": "execute_result"
    }
   ],
   "source": [
    "l_model = LinearRegression()\n",
    "l_model.fit(x_train, y_train)"
   ]
  },
  {
   "cell_type": "code",
   "execution_count": 23,
   "id": "7daae917",
   "metadata": {},
   "outputs": [
    {
     "data": {
      "text/plain": [
       "array([34.43248909, 38.59576928, 37.2500884 ,  6.81783619, 34.54626967,\n",
       "       31.19151029, 33.86358618, 41.73569132, 38.74102586, 21.6203258 ,\n",
       "       34.18935669, 23.3449195 , 16.2376023 , 29.1566506 , 50.81378215,\n",
       "       36.54282449, 14.89192143, 37.22484089, 36.8713757 , 17.13472288,\n",
       "       37.31993599, 37.00708943, 38.04621893, 39.76471756, 12.64911997,\n",
       "       14.44336114,  9.95775822, 38.66561687, 23.86312725, 39.42039498,\n",
       "       11.75199939, 40.61723806, 42.18425161, 44.18047288, 82.97532226,\n",
       "       26.9332017 , 29.80129604,  9.50919793, 16.2376023 , 33.80686266,\n",
       "       41.29302597, 10.40631852, 16.68616259, 39.10761512, 38.36197962,\n",
       "       37.00384176, 36.63758605, 28.94877554, 28.34873017, 38.83300672,\n",
       "       31.34306208, 28.35462512, 35.97425512, 11.75199939, 16.2376023 ,\n",
       "       26.55543662, 13.14817529, 36.62479552, 26.16894743, 36.83956615,\n",
       "       36.28378732, 25.10125604, 33.73145366, 30.48397953, 31.77916538,\n",
       "       18.48040376, 25.41701673, 10.85487881, 27.00304929, 28.10214998,\n",
       "       12.20055968, 24.01461233, 35.11801999, 45.55140127, 35.97425512,\n",
       "       16.62287704, 28.95467049, 33.78784364, 22.96600667, 31.64603224,\n",
       "        7.71495677, 29.15075565, 26.2888898 , 13.54624055, 25.98883376,\n",
       "       20.27464492, 34.97601107, 37.20920295, 25.20880813, 29.40323078,\n",
       "       31.74112734, 14.89192143, 15.84887978, 17.79149178, 36.8831656 ,\n",
       "       28.99927057, 27.45160958, 37.99572391, 38.52002674, 32.38577279])"
      ]
     },
     "execution_count": 23,
     "metadata": {},
     "output_type": "execute_result"
    }
   ],
   "source": [
    "predicted = l_model.predict(x_test)\n",
    "predicted"
   ]
  },
  {
   "cell_type": "code",
   "execution_count": 24,
   "id": "95ba84f4",
   "metadata": {},
   "outputs": [
    {
     "data": {
      "text/plain": [
       "34.6552358292705"
      ]
     },
     "execution_count": 24,
     "metadata": {},
     "output_type": "execute_result"
    }
   ],
   "source": [
    "r2_score(y_test, predicted) * 100"
   ]
  },
  {
   "cell_type": "code",
   "execution_count": 25,
   "id": "6aa12508",
   "metadata": {},
   "outputs": [
    {
     "data": {
      "text/plain": [
       "[60.0, 0.0]"
      ]
     },
     "execution_count": 25,
     "metadata": {},
     "output_type": "execute_result"
    }
   ],
   "source": [
    "l  = list(x_train.iloc[20])\n",
    "l"
   ]
  },
  {
   "cell_type": "code",
   "execution_count": 26,
   "id": "ff92da2a",
   "metadata": {},
   "outputs": [
    {
     "data": {
      "text/plain": [
       "40.0"
      ]
     },
     "execution_count": 26,
     "metadata": {},
     "output_type": "execute_result"
    }
   ],
   "source": [
    "\n",
    "y_train.loc[20]"
   ]
  },
  {
   "cell_type": "code",
   "execution_count": 27,
   "id": "4ff8a2bb",
   "metadata": {},
   "outputs": [
    {
     "data": {
      "text/plain": [
       "array([19.37752434])"
      ]
     },
     "execution_count": 27,
     "metadata": {},
     "output_type": "execute_result"
    }
   ],
   "source": [
    "\n",
    "l_model.predict([l])"
   ]
  },
  {
   "cell_type": "code",
   "execution_count": null,
   "id": "de748727",
   "metadata": {},
   "outputs": [],
   "source": []
  }
 ],
 "metadata": {
  "kernelspec": {
   "display_name": "Python 3",
   "language": "python",
   "name": "python3"
  },
  "language_info": {
   "codemirror_mode": {
    "name": "ipython",
    "version": 3
   },
   "file_extension": ".py",
   "mimetype": "text/x-python",
   "name": "python",
   "nbconvert_exporter": "python",
   "pygments_lexer": "ipython3",
   "version": "3.8.8"
  }
 },
 "nbformat": 4,
 "nbformat_minor": 5
}
