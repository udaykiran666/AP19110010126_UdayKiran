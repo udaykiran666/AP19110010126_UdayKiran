{
 "cells": [
  {
   "cell_type": "code",
   "execution_count": 1,
   "id": "7550fa9d",
   "metadata": {},
   "outputs": [
    {
     "name": "stdout",
     "output_type": "stream",
     "text": [
      "Enter you roll number: 02\n",
      "Not an SRM student\n"
     ]
    }
   ],
   "source": [
    "string1= input(\"Enter you roll number: \")\n",
    "string1[-3:]\n",
    "if (string1[-3:].startswith('01')):\n",
    "    print(\"Cse Dept\")\n",
    "elif (string1[-3:].startswith('11')):\n",
    "    print(\"IT Dept\")\n",
    "elif (string1[-3:].startswith('21')):\n",
    "    print(\"Ece Dept\")\n",
    "else:\n",
    "    print(\"Not an SRM student\")"
   ]
  },
  {
   "cell_type": "code",
   "execution_count": null,
   "id": "fafd93a9",
   "metadata": {},
   "outputs": [],
   "source": []
  },
  {
   "cell_type": "code",
   "execution_count": null,
   "id": "b437dc2e",
   "metadata": {},
   "outputs": [],
   "source": []
  },
  {
   "cell_type": "code",
   "execution_count": null,
   "id": "dc2af248",
   "metadata": {},
   "outputs": [],
   "source": []
  }
 ],
 "metadata": {
  "kernelspec": {
   "display_name": "Python 3",
   "language": "python",
   "name": "python3"
  },
  "language_info": {
   "codemirror_mode": {
    "name": "ipython",
    "version": 3
   },
   "file_extension": ".py",
   "mimetype": "text/x-python",
   "name": "python",
   "nbconvert_exporter": "python",
   "pygments_lexer": "ipython3",
   "version": "3.8.8"
  }
 },
 "nbformat": 4,
 "nbformat_minor": 5
}
