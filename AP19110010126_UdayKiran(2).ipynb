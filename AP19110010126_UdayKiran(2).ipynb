{
 "cells": [
  {
   "cell_type": "code",
   "execution_count": 1,
   "id": "c7a6db0b",
   "metadata": {},
   "outputs": [
    {
     "name": "stdout",
     "output_type": "stream",
     "text": [
      "enter you value:uday\n",
      "d a\n"
     ]
    }
   ],
   "source": [
    "a = input(\"enter you value:\")\n",
    "if (len(a))%2==0:\n",
    "    b = a[(len(a) - 1) // 2]\n",
    "    c = a[len(a) // 2]\n",
    "    print(b,c)\n",
    "else:\n",
    "    middle = a[len(a)//2]\n",
    "    print(middle)"
   ]
  },
  {
   "cell_type": "code",
   "execution_count": 2,
   "id": "40f99565",
   "metadata": {},
   "outputs": [
    {
     "name": "stdout",
     "output_type": "stream",
     "text": [
      "enter you value:kiran\n",
      "r\n"
     ]
    }
   ],
   "source": [
    "a = input(\"enter you value:\")\n",
    "if (len(a))%2==0:\n",
    "    b = a[(len(a) - 1) // 2]\n",
    "    c = a[len(a) // 2]\n",
    "    print(b,c)\n",
    "else:\n",
    "    middle = a[len(a)//2]\n",
    "    print(middle)"
   ]
  },
  {
   "cell_type": "code",
   "execution_count": 3,
   "id": "b26d4329",
   "metadata": {},
   "outputs": [
    {
     "name": "stdout",
     "output_type": "stream",
     "text": [
      "enter you value:878795\n",
      "8 7\n"
     ]
    }
   ],
   "source": [
    "a = input(\"enter you value:\")\n",
    "if (len(a))%2==0:\n",
    "    b = a[(len(a) - 1) // 2]\n",
    "    c = a[len(a) // 2]\n",
    "    print(b,c)\n",
    "else:\n",
    "    middle = a[len(a)//2]\n",
    "    print(middle)"
   ]
  },
  {
   "cell_type": "code",
   "execution_count": null,
   "id": "9adb30e4",
   "metadata": {},
   "outputs": [],
   "source": []
  }
 ],
 "metadata": {
  "kernelspec": {
   "display_name": "Python 3",
   "language": "python",
   "name": "python3"
  },
  "language_info": {
   "codemirror_mode": {
    "name": "ipython",
    "version": 3
   },
   "file_extension": ".py",
   "mimetype": "text/x-python",
   "name": "python",
   "nbconvert_exporter": "python",
   "pygments_lexer": "ipython3",
   "version": "3.8.8"
  }
 },
 "nbformat": 4,
 "nbformat_minor": 5
}
