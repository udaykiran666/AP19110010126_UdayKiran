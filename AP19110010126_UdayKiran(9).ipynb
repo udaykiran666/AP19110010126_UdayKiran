{
 "cells": [
  {
   "cell_type": "code",
   "execution_count": 1,
   "id": "ccf47541",
   "metadata": {},
   "outputs": [],
   "source": [
    "import random\n"
   ]
  },
  {
   "cell_type": "code",
   "execution_count": 2,
   "id": "d0c148c6",
   "metadata": {},
   "outputs": [],
   "source": [
    "class Mail:\n",
    "    def __init__(self):\n",
    "        self.s1 = random.randint(100, 999)\n",
    "        print(\"Your 3-digit OTP is: \",self.s1)\n",
    "class Phone:\n",
    "    def __init__(self):\n",
    "        self.s2 = random.randint(100, 999)\n",
    "        print(\"Your 3-digit OTP is: \",self.s2)\n",
    "class otp(Mail, Phone):\n",
    "    def __init__(self):\n",
    "        Mail.__init__(self)\n",
    "        Phone.__init__(self)\n",
    "        print(\"Your 6-digit OTP is: \",str(self.s1)+str(self.s2))"
   ]
  },
  {
   "cell_type": "code",
   "execution_count": 3,
   "id": "36f7efbd",
   "metadata": {},
   "outputs": [
    {
     "name": "stdout",
     "output_type": "stream",
     "text": [
      "Your 3-digit OTP is:  307\n",
      "Your 3-digit OTP is:  145\n",
      "Your 6-digit OTP is:  307145\n"
     ]
    }
   ],
   "source": [
    "obj = otp()"
   ]
  },
  {
   "cell_type": "code",
   "execution_count": null,
   "id": "eebc2775",
   "metadata": {},
   "outputs": [],
   "source": []
  }
 ],
 "metadata": {
  "kernelspec": {
   "display_name": "Python 3",
   "language": "python",
   "name": "python3"
  },
  "language_info": {
   "codemirror_mode": {
    "name": "ipython",
    "version": 3
   },
   "file_extension": ".py",
   "mimetype": "text/x-python",
   "name": "python",
   "nbconvert_exporter": "python",
   "pygments_lexer": "ipython3",
   "version": "3.8.8"
  }
 },
 "nbformat": 4,
 "nbformat_minor": 5
}
