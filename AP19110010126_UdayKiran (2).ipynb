{
 "cells": [
  {
   "cell_type": "code",
   "execution_count": 1,
   "metadata": {},
   "outputs": [
    {
     "name": "stdout",
     "output_type": "stream",
     "text": [
      "enter you value:Raja\n",
      "a j\n"
     ]
    }
   ],
   "source": [
    "a = input(\"enter you value:\")\n",
    "if (len(a))%2==0:\n",
    "    b = a[(len(a) - 1) // 2]\n",
    "    c = a[len(a) // 2]\n",
    "    print(b,c)\n",
    "else:\n",
    "    middle = a[len(a)//2]\n",
    "    print(middle)"
   ]
  },
  {
   "cell_type": "code",
   "execution_count": 2,
   "metadata": {},
   "outputs": [
    {
     "name": "stdout",
     "output_type": "stream",
     "text": [
      "enter you value:Raj\n",
      "a\n"
     ]
    }
   ],
   "source": [
    "a = input(\"enter you value:\")\n",
    "if (len(a))%2==0:\n",
    "    b = a[(len(a) - 1) // 2]\n",
    "    c = a[len(a) // 2]\n",
    "    print(b,c)\n",
    "else:\n",
    "    middle = a[len(a)//2]\n",
    "    print(middle)"
   ]
  },
  {
   "cell_type": "code",
   "execution_count": 3,
   "metadata": {},
   "outputs": [
    {
     "name": "stdout",
     "output_type": "stream",
     "text": [
      "enter you value:1234\n",
      "2 3\n"
     ]
    }
   ],
   "source": [
    "a = input(\"enter you value:\")\n",
    "if (len(a))%2==0:\n",
    "    b = a[(len(a) - 1) // 2]\n",
    "    c = a[len(a) // 2]\n",
    "    print(b,c)\n",
    "else:\n",
    "    middle = a[len(a)//2]\n",
    "    print(middle)"
   ]
  },
  {
   "cell_type": "code",
   "execution_count": 4,
   "metadata": {},
   "outputs": [
    {
     "name": "stdout",
     "output_type": "stream",
     "text": [
      "enter you value:123\n",
      "2\n"
     ]
    }
   ],
   "source": [
    "a = input(\"enter you value:\")\n",
    "if (len(a))%2==0:\n",
    "    b = a[(len(a) - 1) // 2]\n",
    "    c = a[len(a) // 2]\n",
    "    print(b,c)\n",
    "else:\n",
    "    middle = a[len(a)//2]\n",
    "    print(middle)"
   ]
  }
 ],
 "metadata": {
  "kernelspec": {
   "display_name": "Python 3",
   "language": "python",
   "name": "python3"
  },
  "language_info": {
   "codemirror_mode": {
    "name": "ipython",
    "version": 3
   },
   "file_extension": ".py",
   "mimetype": "text/x-python",
   "name": "python",
   "nbconvert_exporter": "python",
   "pygments_lexer": "ipython3",
   "version": "3.7.6"
  }
 },
 "nbformat": 4,
 "nbformat_minor": 4
}
