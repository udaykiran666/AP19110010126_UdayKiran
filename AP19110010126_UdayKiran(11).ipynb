{
 "cells": [
  {
   "cell_type": "code",
   "execution_count": 1,
   "id": "6256577d",
   "metadata": {},
   "outputs": [
    {
     "data": {
      "text/plain": [
       "[1820, 1840, 1860, 1880, 1920, 1940, 1960, 1980, 2000, 2020]"
      ]
     },
     "execution_count": 1,
     "metadata": {},
     "output_type": "execute_result"
    }
   ],
   "source": [
    "[a for a in range(1800, 2031) if (a%4==0 and a%5==0 and a%100!=0) or (a%400==0)]"
   ]
  },
  {
   "cell_type": "code",
   "execution_count": null,
   "id": "13eb81f1",
   "metadata": {},
   "outputs": [],
   "source": []
  }
 ],
 "metadata": {
  "kernelspec": {
   "display_name": "Python 3",
   "language": "python",
   "name": "python3"
  },
  "language_info": {
   "codemirror_mode": {
    "name": "ipython",
    "version": 3
   },
   "file_extension": ".py",
   "mimetype": "text/x-python",
   "name": "python",
   "nbconvert_exporter": "python",
   "pygments_lexer": "ipython3",
   "version": "3.8.8"
  }
 },
 "nbformat": 4,
 "nbformat_minor": 5
}
