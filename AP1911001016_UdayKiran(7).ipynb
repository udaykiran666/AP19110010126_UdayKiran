{
 "cells": [
  {
   "cell_type": "code",
   "execution_count": 3,
   "id": "199dc656",
   "metadata": {},
   "outputs": [
    {
     "name": "stdout",
     "output_type": "stream",
     "text": [
      "Enter the lower year: 2002\n",
      "Enter the higher year: 2021\n",
      "Between 2002 and 2021\n",
      "2004 is leap year\n",
      "2008 is leap year\n",
      "2012 is leap year\n",
      "2016 is leap year\n",
      "2020 is leap year\n"
     ]
    }
   ],
   "source": [
    "start_yr = int(input(\"Enter the lower year: \"))\n",
    "end_yr = int(input(\"Enter the higher year: \"))\n",
    "def leap_yr(year):\n",
    "    if (year%4==0 and year%100!=0 or year%400==0):\n",
    "        return True\n",
    "    else:\n",
    "        return False\n",
    "print(\"Between\", start_yr, \"and\", end_yr)\n",
    "for i in range(start_yr, end_yr):\n",
    "    if leap_yr(i) == True:\n",
    "        print(i, \"is leap year\")\n",
    "        "
   ]
  },
  {
   "cell_type": "code",
   "execution_count": 4,
   "id": "5cf6a71c",
   "metadata": {},
   "outputs": [
    {
     "name": "stdout",
     "output_type": "stream",
     "text": [
      "Enter your lower value: 1\n",
      "Enter your higher value: 1000\n",
      "1\n",
      "2\n",
      "3\n",
      "4\n",
      "5\n",
      "6\n",
      "7\n",
      "8\n",
      "9\n",
      "153\n",
      "370\n",
      "371\n",
      "407\n"
     ]
    }
   ],
   "source": [
    "start = int(input(\"Enter your lower value: \"))\n",
    "end = int(input(\"Enter your higher value: \"))\n",
    "def armstrong(a, b):\n",
    "    for i in range(a, b+1):\n",
    "        num = i\n",
    "        result = 0\n",
    "        n = len(str(i))\n",
    "        while(i != 0):\n",
    "            digit = i % 10\n",
    "            result = result + digit ** n\n",
    "            i = i//10\n",
    "        if num == result:\n",
    "            print(num)\n",
    "armstrong(start, end)"
   ]
  },
  {
   "cell_type": "code",
   "execution_count": 5,
   "id": "7411b599",
   "metadata": {},
   "outputs": [
    {
     "name": "stdout",
     "output_type": "stream",
     "text": [
      "Enter your lower range: 1\n",
      "Enter your upper range: 10\n",
      "1 is a prime num\n",
      "2 is a prime num\n",
      "3 is a prime num\n",
      "5 is a prime num\n",
      "7 is a prime num\n"
     ]
    }
   ],
   "source": [
    "lower = int(input(\"Enter your lower range: \"))\n",
    "upper = int(input(\"Enter your upper range: \"))\n",
    "\n",
    "def prime(a, b):\n",
    "    for n in range(a, b+1):\n",
    "        for i in range(2, n):\n",
    "            if n % i == 0:\n",
    "                break\n",
    "        else:\n",
    "            print(n, \"is a prime num\")\n",
    "prime(lower, upper)"
   ]
  },
  {
   "cell_type": "code",
   "execution_count": 6,
   "id": "6bf51d88",
   "metadata": {},
   "outputs": [
    {
     "name": "stdout",
     "output_type": "stream",
     "text": [
      "Enter your value: Srm University\n",
      "Number of elements in your string is:  14\n"
     ]
    }
   ],
   "source": [
    "string = input(\"Enter your value: \")\n",
    "def strng(string):\n",
    "    strng = 0\n",
    "    for i in string:\n",
    "        strng = strng + 1\n",
    "    return strng\n",
    "print(\"Number of elements in your string is: \", strng(string))\n"
   ]
  },
  {
   "cell_type": "code",
   "execution_count": null,
   "id": "61e7c544",
   "metadata": {},
   "outputs": [],
   "source": []
  }
 ],
 "metadata": {
  "kernelspec": {
   "display_name": "Python 3",
   "language": "python",
   "name": "python3"
  },
  "language_info": {
   "codemirror_mode": {
    "name": "ipython",
    "version": 3
   },
   "file_extension": ".py",
   "mimetype": "text/x-python",
   "name": "python",
   "nbconvert_exporter": "python",
   "pygments_lexer": "ipython3",
   "version": "3.8.8"
  }
 },
 "nbformat": 4,
 "nbformat_minor": 5
}
