{
 "cells": [
  {
   "cell_type": "code",
   "execution_count": 3,
   "id": "6c427a40",
   "metadata": {},
   "outputs": [
    {
     "name": "stdout",
     "output_type": "stream",
     "text": [
      "['6\\n', '7\\n', '8\\n', '9\\n', '10\\n']\n"
     ]
    }
   ],
   "source": [
    "a = open(\"file.txt\",'r')\n",
    "l = a.readlines()\n",
    "last_5_lines = l[-5:]\n",
    "print(last_5_lines)\n",
    "a.close()"
   ]
  },
  {
   "cell_type": "code",
   "execution_count": 5,
   "id": "980f1966",
   "metadata": {},
   "outputs": [
    {
     "ename": "SyntaxError",
     "evalue": "invalid syntax (<ipython-input-5-1f176ba75e97>, line 1)",
     "output_type": "error",
     "traceback": [
      "\u001b[1;36m  File \u001b[1;32m\"<ipython-input-5-1f176ba75e97>\"\u001b[1;36m, line \u001b[1;32m1\u001b[0m\n\u001b[1;33m    m m. .\u001b[0m\n\u001b[1;37m      ^\u001b[0m\n\u001b[1;31mSyntaxError\u001b[0m\u001b[1;31m:\u001b[0m invalid syntax\n"
     ]
    }
   ],
   "source": [
    "\n",
    "    "
   ]
  },
  {
   "cell_type": "code",
   "execution_count": 1,
   "id": "8c0b7ae6",
   "metadata": {},
   "outputs": [],
   "source": [
    "\n",
    "a = open(\"file.txt\",'w')\n",
    "a.close()\n"
   ]
  },
  {
   "cell_type": "code",
   "execution_count": 2,
   "id": "53283f63",
   "metadata": {},
   "outputs": [],
   "source": [
    "a= open(\"file.txt\",'w')\n",
    "a1=a.write(\"1\\n\")\n",
    "a1=a.write(\"2\\n\")\n",
    "a1=a.write(\"3\\n\")\n",
    "a1=a.write(\"4\\n\")\n",
    "a1=a.write(\"5\\n\")\n",
    "a1=a.write(\"6\\n\")\n",
    "a1=a.write(\"7\\n\")\n",
    "a1=a.write(\"8\\n\")\n",
    "a1=a.write(\"9\\n\")\n",
    "a1=a.write(\"10\\n\")\n",
    "a.close()\n"
   ]
  },
  {
   "cell_type": "code",
   "execution_count": 4,
   "id": "68dbb240",
   "metadata": {},
   "outputs": [
    {
     "data": {
      "text/plain": [
       "'1\\n2\\n3\\n4\\n5\\n6\\n7\\n8\\n9\\n10\\nhello'"
      ]
     },
     "execution_count": 4,
     "metadata": {},
     "output_type": "execute_result"
    }
   ],
   "source": [
    "def appendfile(x):\n",
    "    with open(x,'a') as a:\n",
    "        data = a.write('hello')\n",
    "    return data\n",
    "appendfile('file.txt')\n",
    "\n",
    "a = open('file.txt','r')\n",
    "a.read()"
   ]
  },
  {
   "cell_type": "code",
   "execution_count": null,
   "id": "cb110db8",
   "metadata": {},
   "outputs": [],
   "source": []
  }
 ],
 "metadata": {
  "kernelspec": {
   "display_name": "Python 3",
   "language": "python",
   "name": "python3"
  },
  "language_info": {
   "codemirror_mode": {
    "name": "ipython",
    "version": 3
   },
   "file_extension": ".py",
   "mimetype": "text/x-python",
   "name": "python",
   "nbconvert_exporter": "python",
   "pygments_lexer": "ipython3",
   "version": "3.8.8"
  }
 },
 "nbformat": 4,
 "nbformat_minor": 5
}
