{
 "cells": [
  {
   "cell_type": "code",
   "execution_count": null,
   "metadata": {},
   "outputs": [],
   "source": [
    "# Write a program to check if the user is elgible to vote or not."
   ]
  },
  {
   "cell_type": "code",
   "execution_count": 2,
   "metadata": {},
   "outputs": [
    {
     "name": "stdout",
     "output_type": "stream",
     "text": [
      "Enter your age: 19\n",
      "You are elgible to vote\n"
     ]
    }
   ],
   "source": [
    "age = int(input(\"Enter your age: \"))\n",
    "if age >= 18:\n",
    "    print(\"You are elgible to vote\")\n",
    "if age < 18:\n",
    "    print(\"You are not elgible to vote\")"
   ]
  },
  {
   "cell_type": "code",
   "execution_count": 4,
   "metadata": {},
   "outputs": [
    {
     "name": "stdout",
     "output_type": "stream",
     "text": [
      "Enter your age: 16\n",
      "You are not elgible to vote\n"
     ]
    }
   ],
   "source": [
    "age = int(input(\"Enter your age: \"))\n",
    "if age >= 18:\n",
    "    print(\"You are elgible to vote\")\n",
    "if age < 18:\n",
    "    print(\"You are not elgible to vote\")"
   ]
  },
  {
   "cell_type": "code",
   "execution_count": 5,
   "metadata": {},
   "outputs": [],
   "source": [
    "#Write a program  to check if the given number is positive or not"
   ]
  },
  {
   "cell_type": "code",
   "execution_count": 1,
   "metadata": {},
   "outputs": [
    {
     "name": "stdout",
     "output_type": "stream",
     "text": [
      "Enter a number: 99\n",
      "The given number is positive\n"
     ]
    }
   ],
   "source": [
    "number = float(input(\"Enter a number: \"))\n",
    "if number >= 0:\n",
    "    print(\"The given number is positive\")\n",
    "else:\n",
    "    print(\"The given number is negative\")    "
   ]
  },
  {
   "cell_type": "code",
   "execution_count": 2,
   "metadata": {},
   "outputs": [
    {
     "name": "stdout",
     "output_type": "stream",
     "text": [
      "Enter a number: -1\n",
      "The given number is negative\n"
     ]
    }
   ],
   "source": [
    "number = float(input(\"Enter a number: \"))\n",
    "if number >= 0:\n",
    "    print(\"The given number is positive\")\n",
    "else:\n",
    "    print(\"The given number is negative\")  "
   ]
  },
  {
   "cell_type": "code",
   "execution_count": null,
   "metadata": {},
   "outputs": [],
   "source": [
    "#Check the given number is odd or even, if it's even then check if it is also divisible by 4 or not   "
   ]
  },
  {
   "cell_type": "code",
   "execution_count": 3,
   "metadata": {},
   "outputs": [
    {
     "name": "stdout",
     "output_type": "stream",
     "text": [
      "Enter a number: 2\n",
      "The given number is even\n"
     ]
    }
   ],
   "source": [
    " n = int(input(\"Enter a number: \"))\n",
    "if(n % 2) == 0:\n",
    "    print(\"The given number is even\")\n",
    "else:\n",
    "    print(\"The given number is odd\")\n",
    "if((n % 4) == 0):\n",
    "    print(\"The given number is even and divisible by 4\") "
   ]
  },
  {
   "cell_type": "code",
   "execution_count": 4,
   "metadata": {},
   "outputs": [
    {
     "name": "stdout",
     "output_type": "stream",
     "text": [
      "Enter a number: 9\n",
      "The given number is odd\n"
     ]
    }
   ],
   "source": [
    "n = int(input(\"Enter a number: \"))\n",
    "if(n % 2) == 0:\n",
    "    print(\"The given number is even\")\n",
    "else:\n",
    "    print(\"The given number is odd\")\n",
    "if((n % 4) == 0):\n",
    "    print(\"The given number is even and divisible by 4\") "
   ]
  },
  {
   "cell_type": "code",
   "execution_count": 1,
   "metadata": {},
   "outputs": [
    {
     "name": "stdout",
     "output_type": "stream",
     "text": [
      "Enter a number: 16\n",
      "The given number is even\n",
      "The given number is even and divisible by 4\n"
     ]
    }
   ],
   "source": [
    "n = int(input(\"Enter a number: \"))\n",
    "if(n % 2) == 0:\n",
    "    print(\"The given number is even\")\n",
    "else:\n",
    "    print(\"The given number is odd\")\n",
    "if((n % 4) == 0):\n",
    "    print(\"The given number is even and divisible by 4\") "
   ]
  },
  {
   "cell_type": "code",
   "execution_count": null,
   "metadata": {},
   "outputs": [],
   "source": [
    "#write a program to print student grade based on percentage "
   ]
  },
  {
   "cell_type": "code",
   "execution_count": 9,
   "metadata": {},
   "outputs": [
    {
     "name": "stdout",
     "output_type": "stream",
     "text": [
      "Enter your marks: 100\n",
      "Passed with distinction\n"
     ]
    }
   ],
   "source": [
    "x = float(input(\"Enter your marks: \"))\n",
    "if x <= 35:\n",
    "    print(\"Fail\")\n",
    "if (x > 35) & (x <= 75):\n",
    "    print(\"Pass\")\n",
    "if (x > 75) & (x <= 100):\n",
    "    print(\"Passed with distinction\")"
   ]
  },
  {
   "cell_type": "code",
   "execution_count": 10,
   "metadata": {},
   "outputs": [],
   "source": [
    "#check the given year is leap year or not "
   ]
  },
  {
   "cell_type": "code",
   "execution_count": 18,
   "metadata": {},
   "outputs": [
    {
     "name": "stdout",
     "output_type": "stream",
     "text": [
      "Enter the year: 2001\n",
      "2001 is not a leap year\n"
     ]
    }
   ],
   "source": [
    "year = int(input(\"Enter the year: \"))\n",
    "if (year % 4) == 0:\n",
    "    if (year % 100) == 0:\n",
    "        if (year % 400) == 0:\n",
    "            print(\"{0} is a leap year\".format(year))\n",
    "        else:\n",
    "            print(\"{0} is not a leap year\".format(year))\n",
    "    else:\n",
    "        print(\"{0} is a leap year\".format(year))\n",
    "else:\n",
    "    print(\"{0} is not a leap year\".format(year))"
   ]
  },
  {
   "cell_type": "code",
   "execution_count": 20,
   "metadata": {},
   "outputs": [
    {
     "name": "stdout",
     "output_type": "stream",
     "text": [
      "Enter the year: 2016\n",
      "2016 is a leap year\n"
     ]
    }
   ],
   "source": [
    "year = int(input(\"Enter the year: \"))\n",
    "if (year % 4) == 0:\n",
    "    if (year % 100) == 0:\n",
    "        if (year % 400) == 0:\n",
    "            print(\"{0} is a leap year\".format(year))\n",
    "        else:\n",
    "            print(\"{0} is not a leap year\".format(year))\n",
    "    else:\n",
    "        print(\"{0} is a leap year\".format(year))\n",
    "else:\n",
    "    print(\"{0} is not a leap year\".format(year))"
   ]
  },
  {
   "cell_type": "code",
   "execution_count": null,
   "metadata": {},
   "outputs": [],
   "source": []
  }
 ],
 "metadata": {
  "kernelspec": {
   "display_name": "Python 3",
   "language": "python",
   "name": "python3"
  },
  "language_info": {
   "codemirror_mode": {
    "name": "ipython",
    "version": 3
   },
   "file_extension": ".py",
   "mimetype": "text/x-python",
   "name": "python",
   "nbconvert_exporter": "python",
   "pygments_lexer": "ipython3",
   "version": "3.8.8"
  }
 },
 "nbformat": 4,
 "nbformat_minor": 2
}
